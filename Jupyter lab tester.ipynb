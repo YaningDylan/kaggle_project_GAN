{
 "cells": [
  {
   "cell_type": "code",
   "execution_count": 2,
   "id": "6b4fdc79-367f-4a2f-86d3-e1236d7e3276",
   "metadata": {},
   "outputs": [
    {
     "name": "stdout",
     "output_type": "stream",
     "text": [
      "hello world\n"
     ]
    }
   ],
   "source": [
    "print(\"hello world\")"
   ]
  },
  {
   "cell_type": "code",
   "execution_count": null,
   "id": "cdb292b5-5106-4451-9c8b-a48d46409b3c",
   "metadata": {},
   "outputs": [],
   "source": [
    "print(\"Hi!!\")"
   ]
  },
  {
   "cell_type": "code",
   "execution_count": null,
   "id": "c4982e23",
   "metadata": {},
   "outputs": [],
   "source": []
  }
 ],
 "metadata": {
  "kernelspec": {
   "display_name": "Python 3 (ipykernel)",
   "language": "python",
   "name": "python3"
  },
  "language_info": {
   "codemirror_mode": {
    "name": "ipython",
    "version": 3
   },
   "file_extension": ".py",
   "mimetype": "text/x-python",
   "name": "python",
   "nbconvert_exporter": "python",
   "pygments_lexer": "ipython3",
   "version": "3.9.16"
  }
 },
 "nbformat": 4,
 "nbformat_minor": 5
}
